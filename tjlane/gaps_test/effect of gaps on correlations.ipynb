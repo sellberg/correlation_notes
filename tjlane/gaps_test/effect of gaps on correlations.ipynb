{
 "metadata": {
  "name": "effect of gaps on correlations"
 },
 "nbformat": 3,
 "nbformat_minor": 0,
 "worksheets": [
  {
   "cells": [
    {
     "cell_type": "code",
     "collapsed": false,
     "input": [
      "from odin import xray, structure\n",
      "from scipy import fftpack\n",
      "from odin.corr import correlate as gap_correlate\n",
      "\n",
      "xray.logger.propagate = False\n",
      "xray.scatter.logger.propagate = False\n",
      "\n",
      "gold= structure.load_coor('fcc_sphere_5.0nm.coor')"
     ],
     "language": "python",
     "metadata": {},
     "outputs": [],
     "prompt_number": 8
    },
    {
     "cell_type": "code",
     "collapsed": false,
     "input": [
      "r = xray.Rings.simulate(gold, 1, [2.67], 360, 50)"
     ],
     "language": "python",
     "metadata": {},
     "outputs": [],
     "prompt_number": 9
    },
    {
     "cell_type": "code",
     "collapsed": false,
     "input": [
      "x = r.polar_intensities[:,0,:]\n",
      "y = x.copy()\n",
      "\n",
      "def fft_correlate(x, y, x_mask, y_mask):\n",
      "    \n",
      "    # shot mean for now\n",
      "    x_bar = x.mean(axis=1)[:,None]\n",
      "    y_bar = y.mean(axis=1)[:,None]\n",
      "            \n",
      "    ffx = np.fft.rfft((x - x_bar) * x_mask[None,:], n=x.shape[1], axis=1)\n",
      "    ffy = np.fft.rfft((y - y_bar) * y_mask[None,:], n=y.shape[1], axis=1)\n",
      "    corr = np.fft.irfft( ffx * np.conjugate(ffy), n=x.shape[1], axis=1)\n",
      "    \n",
      "    return corr.mean(0)\n",
      "\n",
      "\n",
      "def c_correlate(x, y, x_mask, y_mask):\n",
      "    \n",
      "    corr = zeros((r.num_shots, r.num_phi))\n",
      "    \n",
      "    for i in range(r.num_shots):\n",
      "        corr[i,:] = gap_correlate(x[i,:] * x_mask[:], y[i,:] * y_mask[:], 0)\n",
      "        \n",
      "    return corr.mean(0)\n",
      "\n",
      "def py_correlate(x, mask, subtraction='shot'):\n",
      "    \"\"\"\n",
      "    Autocorrelate x\n",
      "\n",
      "    subtraction = {'shot', 'ensemble'}\n",
      "    \"\"\"\n",
      "    \n",
      "    x2 = x.copy()\n",
      "    N = x.shape[1]\n",
      "    \n",
      "    if subtraction == 'shot':\n",
      "        x_bar = x2[:,:] - x2[:,:].mean(1)[:,None]\n",
      "    elif subtraction == 'ensemble':\n",
      "        x_bar = x2[:,:] - mean( x2[:,:] )\n",
      "\n",
      "    corr = np.zeros((x.shape[0], N))\n",
      "    for k in range(x.shape[0]):\n",
      "        for delta in range(N):\n",
      "            for i in range(N):\n",
      "        \n",
      "                i_shifted = (i+delta) % N\n",
      "                if mask[i] and mask[i_shifted]:\n",
      "                    corr[k, delta] += x_bar[k,i] * x_bar[k,i_shifted] # avg over shots\n",
      "            \n",
      "    return corr.mean(0)\n"
     ],
     "language": "python",
     "metadata": {},
     "outputs": [],
     "prompt_number": 10
    },
    {
     "cell_type": "code",
     "collapsed": false,
     "input": [
      "x_mask = ones(r.num_phi)\n",
      "y_mask = ones(r.num_phi)\n",
      "\n",
      "#x_mask = random.binomial(1, 0.5, size=(r.num_phi,))\n",
      "#y_mask = x_mask.copy()\n",
      "\n",
      "print x_mask.sum()\n",
      "\n",
      "cc = c_correlate(x, y, x_mask, y_mask)\n",
      "fc = fft_correlate(x, y, x_mask, y_mask)\n",
      "pc = py_correlate(x, x_mask)"
     ],
     "language": "python",
     "metadata": {},
     "outputs": [
      {
       "output_type": "stream",
       "stream": "stdout",
       "text": [
        "360.0\n"
       ]
      }
     ],
     "prompt_number": 11
    },
    {
     "cell_type": "code",
     "collapsed": false,
     "input": [
      "\n",
      "figure() #figsize=(12,8))\n",
      "\n",
      "plot(cc / cc[0], lw=2)\n",
      "plot(fc / fc[0], lw=2)\n",
      "plot(pc / pc[0], '--', lw=2)\n",
      "\n",
      "legend(['c', 'fft', 'python'])\n",
      "\n",
      "xlim([0,360])\n",
      "ylim([-0.02, 0.0])\n",
      "\n",
      "xlabel(r'$\\Delta$')\n",
      "ylabel('Autocorrelation')\n",
      "\n",
      "savefig('fft_correlations_50percent-gap.pdf')\n",
      "show()\n"
     ],
     "language": "python",
     "metadata": {},
     "outputs": [
      {
       "output_type": "display_data",
       "png": "[encoded data removed]",
       "text": [
        "<matplotlib.figure.Figure at 0x10eb2b9d0>"
       ]
      }
     ],
     "prompt_number": 13
    },
    {
     "cell_type": "code",
     "collapsed": false,
     "input": [],
     "language": "python",
     "metadata": {},
     "outputs": [],
     "prompt_number": 12
    }
   ],
   "metadata": {}
  }
 ]
}